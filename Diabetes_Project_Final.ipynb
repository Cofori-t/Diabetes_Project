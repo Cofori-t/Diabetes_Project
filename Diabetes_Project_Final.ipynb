{
 "cells": [
  {
   "cell_type": "code",
   "execution_count": null,
   "id": "50734ef6-fce1-4280-84f4-4d41cf1c9dc7",
   "metadata": {},
   "outputs": [],
   "source": [
    "import numpy as np\n",
    "import pandas as pd\n",
    "import seaborn as sns\n",
    "import warnings\n",
    "import matplotlib.pyplot as plt\n",
    "import random\n",
    "\n",
    "from sklearn.model_selection import train_test_split\n",
    "from sklearn.compose import ColumnTransformer\n",
    "from sklearn.preprocessing import OneHotEncoder\n",
    "from sklearn.preprocessing import MinMaxScaler\n",
    "from sklearn.pipeline import Pipeline,make_pipeline\n",
    "from sklearn.tree import DecisionTreeClassifier\n",
    "from sklearn.metrics import accuracy_score\n",
    "from sklearn.model_selection import cross_val_score\n",
    "\n",
    "from sklearn.cluster import KMeans\n",
    "from sklearn.model_selection import train_test_split\n",
    "from sklearn.linear_model import LogisticRegression\n",
    "from sklearn.metrics import confusion_matrix, accuracy_score, classification_report, ConfusionMatrixDisplay\n",
    "from sklearn.ensemble import RandomForestClassifier\n",
    "from sklearn.preprocessing import StandardScaler\n",
    "from sklearn.metrics import silhouette_samples\n",
    "from matplotlib.cm import get_cmap\n",
    "\n",
    "warnings.filterwarnings(\"ignore\")"
   ]
  },
  {
   "cell_type": "code",
   "execution_count": null,
   "id": "77777e16-78eb-4d2d-be88-3ce93b585508",
   "metadata": {},
   "outputs": [],
   "source": [
    "url = 'https://drive.google.com/file/d/135r0zppiZruDktBfu2cYgeBZ0pe5FTW7/view?usp=sharing'\n",
    "path = \"https://drive.google.com/uc?export=download&id=\"+url.split(\"/\")[-2]\n",
    "Diabetes = pd.read_csv(path)\n"
   ]
  },
  {
   "cell_type": "code",
   "execution_count": null,
   "id": "22f7db1b-df6c-4b04-b88a-4d11ac942b26",
   "metadata": {},
   "outputs": [],
   "source": [
    "Diabetes.head(5)"
   ]
  },
  {
   "cell_type": "code",
   "execution_count": null,
   "id": "09f2a633-d41e-44cc-97c6-f6ef8f60b3d2",
   "metadata": {},
   "outputs": [],
   "source": [
    "df=Diabetes.copy()\n",
    "df.info()"
   ]
  },
  {
   "cell_type": "code",
   "execution_count": null,
   "id": "b1bdb910-cb9a-44c6-b137-08b02b49feff",
   "metadata": {},
   "outputs": [],
   "source": [
    "#Change Data type age: float to Integer\n",
    "df.astype({\"age\":int})"
   ]
  },
  {
   "cell_type": "code",
   "execution_count": null,
   "id": "db9afe70-d99a-41f7-a8a6-dc5312d98b63",
   "metadata": {},
   "outputs": [],
   "source": [
    "#Check for empty values.\n",
    "df.isnull().sum()"
   ]
  },
  {
   "cell_type": "code",
   "execution_count": null,
   "id": "ba390f3a-79dd-4753-99f7-85e152f80bab",
   "metadata": {},
   "outputs": [],
   "source": [
    "#Check for duplications values and drop them\n",
    "df.duplicated().value_counts()\n",
    "print(\"Number of Duplicated Values = \",df.duplicated().sum())\n",
    "\n",
    "df.drop_duplicates().count()"
   ]
  },
  {
   "cell_type": "code",
   "execution_count": null,
   "id": "0307b74b-fdb5-4000-8181-dd5b49b40c71",
   "metadata": {},
   "outputs": [],
   "source": [
    "df['smoking_history'].value_counts()"
   ]
  },
  {
   "cell_type": "code",
   "execution_count": null,
   "id": "95bc9758-1127-4128-b003-7454028c98f2",
   "metadata": {},
   "outputs": [],
   "source": [
    "df['gender'].value_counts()"
   ]
  },
  {
   "cell_type": "code",
   "execution_count": null,
   "id": "81c9cc71-bcdc-4c1c-af25-b2cdcc84bede",
   "metadata": {},
   "outputs": [],
   "source": [
    "df['diabetes'].value_counts()"
   ]
  },
  {
   "cell_type": "code",
   "execution_count": null,
   "id": "93daf541-f224-42cb-8e63-f9a6172753aa",
   "metadata": {},
   "outputs": [],
   "source": [
    "# Percentage of Non_diabetic vs Diabetic patients\n",
    "df['diabetes'].value_counts().plot(kind='pie',autopct='%0.2f')\n",
    "plt.title(\"Distribution of diabeties in dataset\")"
   ]
  },
  {
   "cell_type": "code",
   "execution_count": null,
   "id": "500d2924-4686-49bc-a02b-01379af0b3b2",
   "metadata": {},
   "outputs": [],
   "source": [
    "#Gender vs Diabetes\n",
    "gen=sns.countplot(x='diabetes',data=df,hue='gender')\n",
    "\n",
    "for bars in gen.containers:\n",
    "    gen.bar_label(bars)"
   ]
  },
  {
   "cell_type": "code",
   "execution_count": null,
   "id": "e10eaf1f-ec65-47d3-b390-adba1ceb0f21",
   "metadata": {},
   "outputs": [],
   "source": [
    "#detecting correlation between diabeted and key features\n",
    "sns.heatmap(df.corr(),annot=True)"
   ]
  },
  {
   "cell_type": "code",
   "execution_count": null,
   "id": "d577ca14-35b7-472e-a08a-20badedf7bb3",
   "metadata": {},
   "outputs": [],
   "source": [
    "#mapping character values to numerical\n",
    "df['gender_num']=df['gender'].map({'Female':0,'Male':1,'Other':2})\n",
    "df['smoking_history_num']=df['smoking_history'].map({'No Info':-1,'never':0,\n",
    "                                                     'former':1,'current':2,\n",
    "                                                     'not current':3,'ever':4})\n",
    "df=df.drop('smoking_history',axis=1)\n",
    "df=df.drop('gender',axis=1)"
   ]
  },
  {
   "cell_type": "code",
   "execution_count": null,
   "id": "e1b059fe-bb44-4261-9094-7c4e5a6a22ee",
   "metadata": {},
   "outputs": [],
   "source": [
    "#Re-check correlation\n",
    "#sns.heatmap(df.corr(),annot=True)"
   ]
  },
  {
   "cell_type": "code",
   "execution_count": null,
   "id": "d3d4ef5c-9d90-424c-9c59-1f3bbbfb9ace",
   "metadata": {},
   "outputs": [],
   "source": []
  },
  {
   "cell_type": "code",
   "execution_count": null,
   "id": "557565b5-87fe-4ac0-8a25-b1753ec433cb",
   "metadata": {},
   "outputs": [],
   "source": [
    "#Address skewed variables (features) by transforming\n",
    "\n",
    "sns.boxplot(x=\"diabetes\", y=\"bmi\", data=df)\n",
    "plt.title(\"BMI Distribution by Diabetes Status\")\n",
    "plt.show()\n",
    "\n",
    "sns.boxplot(x=\"diabetes\", y=\"HbA1c_level\", data=df)\n",
    "plt.title(\"HbA1c Level Distribution by Diabetes Status\")\n",
    "plt.show()\n",
    "\n",
    "sns.boxplot(x=\"diabetes\", y=\"blood_glucose_level\", data=df)\n",
    "plt.title(\"Blood Glucose Level Distribution by Diabetes Status\")\n",
    "plt.show()"
   ]
  },
  {
   "cell_type": "code",
   "execution_count": null,
   "id": "33d86d45-ae7d-4af4-abfc-f296e1cf681f",
   "metadata": {
    "tags": []
   },
   "outputs": [],
   "source": [
    "#Check outliers and remove them\n",
    "#Q1=df[\"bmi\"].quantile(0.25)\n",
    "#Q3=df[\"bmi\"].quantile(0.75)\n",
    "#print(Q1,Q3)\n",
    "#IQR = Q3 - Q1\n",
    "#print(IQR)\n",
    "#lowerlimit = Q1 - 1.5*IQR\n",
    "#upperlimit = Q3 + 1.5*IQR\n",
    "#print(lowerlimit, upperlimit)\n",
    "#df1 = df[(df['bmi']<lowerlimit)|(df['bmi']>upperlimit)]\n",
    "#print(df1)"
   ]
  },
  {
   "cell_type": "code",
   "execution_count": null,
   "id": "911c9588-7b60-430e-9332-8d620004856c",
   "metadata": {
    "tags": []
   },
   "outputs": [],
   "source": [
    "df.skew()"
   ]
  },
  {
   "cell_type": "code",
   "execution_count": null,
   "id": "dd272717-389b-4dc8-9c3f-796f22c8719f",
   "metadata": {
    "tags": []
   },
   "outputs": [],
   "source": [
    "#sqr transformation\n",
    "#df1[\"smoking_history_num\"]=np.sqrt(df1[\"smoking_history_num\"])\n",
    "#df1[\"hypertension\"]=np.sqrt(df1[\"hypertension\"])\n",
    "df[\"bmi\"]=np.sqrt(df[\"bmi\"])\n",
    "#df1[\"heart_disease\"]=np.sqrt(df1[\"heart_disease\"])"
   ]
  },
  {
   "cell_type": "code",
   "execution_count": null,
   "id": "533f4ce2-7544-46a2-97ba-f9908fd481fc",
   "metadata": {
    "tags": []
   },
   "outputs": [],
   "source": [
    "df.skew()"
   ]
  },
  {
   "cell_type": "code",
   "execution_count": null,
   "id": "a4649a6f-e396-4211-a38d-faa0d969b0bd",
   "metadata": {
    "tags": []
   },
   "outputs": [],
   "source": [
    "for i in df.columns:\n",
    "  sns.distplot(df[i], kde=True)\n",
    "  plt.show()\n",
    "  print()"
   ]
  },
  {
   "cell_type": "code",
   "execution_count": null,
   "id": "242cb290-d0b3-4f96-aa19-a771abae8bfd",
   "metadata": {
    "tags": []
   },
   "outputs": [],
   "source": [
    "df.describe()"
   ]
  },
  {
   "cell_type": "code",
   "execution_count": null,
   "id": "3d400a6c-9bf1-4824-9442-a18e0764f015",
   "metadata": {
    "tags": []
   },
   "outputs": [],
   "source": [
    "X=df.drop(['diabetes'],axis=1)\n",
    "y=df['diabetes']\n",
    "\n",
    "X_train, X_test, y_train, y_test = train_test_split(X,y,test_size=0.25,random_state=123)\n",
    "\n",
    "print(X_train.shape,y_train.shape)\n",
    "print(X_test.shape,y_test.shape)\n"
   ]
  },
  {
   "cell_type": "code",
   "execution_count": null,
   "id": "d565390c-32dd-46d9-9690-9955c3b1c470",
   "metadata": {
    "tags": []
   },
   "outputs": [],
   "source": [
    "\n",
    "\n",
    "# determine the columns that will need to go to the numerical pipeline\n",
    "# also determine those columns that need to go to the categorical pipeline\n",
    "#X_num = X.select_dtypes(include=['int64', 'float64']).copy() #columns\n",
    "#X_cat = X.select_dtypes(include=['object']).copy() #columns"
   ]
  },
  {
   "cell_type": "code",
   "execution_count": null,
   "id": "bffb68ff-c4ee-45d9-b51a-eb391a7c28ba",
   "metadata": {
    "tags": []
   },
   "outputs": [],
   "source": [
    "#Train my Model \n",
    "from sklearn.impute import SimpleImputer\n",
    "from sklearn.pipeline import make_pipeline\n",
    "num_pipe = make_pipeline(SimpleImputer())\n",
    "num_pipe"
   ]
  },
  {
   "cell_type": "code",
   "execution_count": null,
   "id": "da0e5720-041d-4b36-9e2a-35541c711f58",
   "metadata": {
    "tags": []
   },
   "outputs": [],
   "source": [
    "from sklearn.compose import ColumnTransformer\n",
    "full_processor = ColumnTransformer(transformers=[\n",
    "                        (\"numeric_pipe\", num_pipe, X_num),\n",
    "                       \n",
    "                       ])\n",
    "full_processor"
   ]
  },
  {
   "cell_type": "code",
   "execution_count": null,
   "id": "85dc3b78-b2b3-4d7c-9257-8d69350d268e",
   "metadata": {
    "tags": []
   },
   "outputs": [],
   "source": [
    "#Scaling thee values between the range[-1,1]\n",
    "scaler = ColumnTransformer([\n",
    "    ('scale',MinMaxScaler(),slice(0,15))])"
   ]
  },
  {
   "cell_type": "code",
   "execution_count": null,
   "id": "b6207a9d-6117-4439-b977-9e880f215b29",
   "metadata": {
    "tags": []
   },
   "outputs": [],
   "source": [
    "#scaler = ColumnTransformer([\n",
    "    #('scale',StandardScaler())])"
   ]
  },
  {
   "cell_type": "code",
   "execution_count": null,
   "id": "e38aca20-accc-431e-8aa5-bdda6fa0f1f1",
   "metadata": {
    "tags": []
   },
   "outputs": [],
   "source": [
    "#1.model training\n",
    "#dtc= DecisionTreeClassifier()\n",
    "#dtc= DecisionTreeClassifier()\n",
    "#lr=LogisticRegression()\n",
    "lr=LogisticRegression(solver='newton-cg',penalty='l2', C=0.001, max_iter=1000)"
   ]
  },
  {
   "cell_type": "code",
   "execution_count": null,
   "id": "709fa5a9-5d2b-4c98-86ee-6a5ff9008348",
   "metadata": {
    "tags": []
   },
   "outputs": [],
   "source": [
    "pipe = make_pipeline(scaler,lr)"
   ]
  },
  {
   "cell_type": "code",
   "execution_count": null,
   "id": "7c45edb0-91cf-4d58-8c91-34a9b1732dee",
   "metadata": {
    "tags": []
   },
   "outputs": [],
   "source": [
    "pipe.fit(X_train,y_train)"
   ]
  },
  {
   "cell_type": "code",
   "execution_count": null,
   "id": "b28eb108-6c4d-4372-8a79-47f570683463",
   "metadata": {
    "tags": []
   },
   "outputs": [],
   "source": [
    "#Checking Accuracy of Training Dataset¶\n",
    "y_pred=pipe.predict(X_train)\n",
    "print(\"Accuracy of Training data set is : \",accuracy_score(y_train,y_pred))\n",
    "\n",
    "# Accuracy Checking: Cross Validation\n",
    "print(\"Accuracy after Cross Validation :\",cross_val_score(pipe, X_train, y_train, cv=5, scoring='accuracy').mean())"
   ]
  },
  {
   "cell_type": "code",
   "execution_count": null,
   "id": "fde0afd0-49cc-4f7d-87fe-5ca1286a493d",
   "metadata": {
    "tags": []
   },
   "outputs": [],
   "source": [
    "#Prediction with my Test Dataset\n",
    "y_pred = pipe.predict(X_test)\n",
    "print(\"Accuracy of Test data set is : \",accuracy_score(y_test,y_pred))\n",
    "\n",
    "# Accuracy Checking: Cross Validation\n",
    "print(\"Accuracy after Cross Validation :\",cross_val_score(pipe, X_test, y_test,\n",
    "                                                          cv=5, scoring='accuracy').mean())"
   ]
  },
  {
   "cell_type": "code",
   "execution_count": null,
   "id": "152879ef-0bcf-411c-b5fe-b0170dbdfe52",
   "metadata": {
    "tags": []
   },
   "outputs": [],
   "source": [
    "import pickle\n",
    "pickle.dump(pipe,open('pipe_pkl1','wb'))"
   ]
  },
  {
   "cell_type": "code",
   "execution_count": null,
   "id": "26cc3530-2bf4-45a8-903a-4ceaa4036cb3",
   "metadata": {
    "tags": []
   },
   "outputs": [],
   "source": [
    "pipe=pickle.load(open('pipe_pkl1','rb'))"
   ]
  },
  {
   "cell_type": "code",
   "execution_count": null,
   "id": "6ce579c4-2a09-4987-8c70-87dc39c2104b",
   "metadata": {},
   "outputs": [],
   "source": [
    "#1.Age:(>1)\n",
    "\n",
    "#2.Hypertension[0,1]: No Hypertension=0, Hypertension=1\n",
    "\n",
    "#3.Heart_disease[0,1]: No Heart_disease=0,Heart_disease=1\n",
    "\n",
    "#4.BMI(> 16.0)\n",
    "\n",
    "#5.HbA1c_level-: (> 4.0 )\n",
    "\n",
    "#6.Blood_glucose_level(>70)\n",
    "\n",
    "#7.Gender =:Female=0, Male=1, Other=2\n",
    "\n",
    "#8.Smoking_history =:No Info = -1, never = 0, former=1, current = 2,not current = 3, ever = 4\n",
    "\n",
    "#Sequence of variable as in Dataset: ARRAY( 1.age, 2.hypertension, 3.heart_disease, 4.bmi, \n",
    "#6.HbA1c_level, 7.blood_glucose_level,7.gender,8.smoking_history)"
   ]
  },
  {
   "cell_type": "code",
   "execution_count": null,
   "id": "80d905b6-5206-49d0-9c5d-02dff2751438",
   "metadata": {
    "tags": []
   },
   "outputs": [],
   "source": [
    "#new_input=np.array([69.0,0,1,4.6,7.5,160,0,2],dtype=object).reshape(1,8)\n",
    "#prediction=pipe.predict(new_input)\n",
    "#print(prediction)\n",
    "#if (prediction[0]==1):\n",
    "    #print(\"The Person is Diabetic\")\n",
    "#else:\n",
    "    #print(\"The Person is Not Diabetic\")"
   ]
  },
  {
   "cell_type": "code",
   "execution_count": null,
   "id": "81c14ce3-7c94-4f2d-a419-d3a223c06317",
   "metadata": {
    "tags": []
   },
   "outputs": [],
   "source": [
    "#new_input=np.array([4.0,0,0,4.0,3.5,160,0,-1],dtype=object).reshape(1,8)\n",
    "#prediction=pipe.predict(new_input)\n",
    "#print(prediction)\n",
    "#if (prediction[0]==1):\n",
    "    #print(\"The Person is Diabetic\")\n",
    "#else:\n",
    "    #print(\"The Person is Not Diabetic\")"
   ]
  },
  {
   "cell_type": "code",
   "execution_count": null,
   "id": "93917663-7034-47f3-a305-c7785f23a429",
   "metadata": {
    "tags": []
   },
   "outputs": [],
   "source": [
    "#prediction"
   ]
  },
  {
   "cell_type": "code",
   "execution_count": null,
   "id": "961c2d80-5f98-4e4e-987c-8eaa5a59a862",
   "metadata": {
    "tags": []
   },
   "outputs": [],
   "source": [
    "import pickle\n",
    "import streamlit as st\n",
    "\n",
    "pipe=pickle.load(open('pipe_pkl1','rb'))\n",
    "new_input = pd.DataFrame({\n",
    "                        'age':[4],\n",
    "                        'hypertension':[0],\n",
    "                        'heart_disease':[0],\n",
    "                        'bmi':[4.0],\n",
    "                        'HbA1c_level':[3.5],\n",
    "                        'blood_glucose_level':[160],\n",
    "                        'gender_num':[0],\n",
    "                        'smoking_history_num':[-1]   \n",
    "})\n",
    "\n",
    "new_input=new_input.rename({\"age \":\"age\"},axis=1)\n",
    "\n",
    "prediction = pipe.predict(new_input)\n",
    "\n",
    "print(prediction)\n",
    "\n",
    "if (prediction[0]==1):\n",
    "    print(\"The Person is Diabetic\")\n",
    "else:\n",
    "    print(\"The Person is Not Diabetic\")\n",
    "    \n",
    "#st.write(\"The Person is:\", prediction)"
   ]
  },
  {
   "cell_type": "code",
   "execution_count": null,
   "id": "cb8c9641-faca-430a-b22a-90c9c5e433f3",
   "metadata": {
    "tags": []
   },
   "outputs": [],
   "source": [
    "prediction"
   ]
  },
  {
   "cell_type": "code",
   "execution_count": null,
   "id": "b7f59590-ac23-46b1-a0b9-0a889970b6e5",
   "metadata": {
    "tags": []
   },
   "outputs": [],
   "source": [
    "#import pickle\n",
    "#import streamlit as st\n",
    "pipe=pickle.load(open('pipe_pkl1','rb'))\n"
   ]
  },
  {
   "cell_type": "code",
   "execution_count": null,
   "id": "fb85771a-a8ef-4675-ba8e-632f7f22298f",
   "metadata": {
    "tags": []
   },
   "outputs": [],
   "source": []
  },
  {
   "cell_type": "code",
   "execution_count": null,
   "id": "19c7239a-937e-4eab-b3e8-02333a6269bf",
   "metadata": {
    "tags": []
   },
   "outputs": [],
   "source": [
    "import pandas as pd\n",
    "age = st.number_input('age')\n",
    "hypertension = st.number_input('hypertension')\n",
    "heart_disease = st.number_input('heart_disease')\n",
    "bmi  = st.number_input('bmi')\n",
    "HbA1c_level   = st.number_input('HbA1c_level')\n",
    "blood_glucose_level = st.number_input('blood_glucose_level')\n",
    "gender_num  = st.number_input('gender_num')\n",
    "smoking_history_num  = st.number_input('smoking_history_num')\n",
    "\n",
    "new_input = pd.DataFrame({\n",
    "                     \"age\":[age],\n",
    "                     \"hypertension\":[hypertension], \n",
    "                     \"heart_disease\":[heart_disease],\n",
    "                     \"bmi\":[bmi],\n",
    "                     \"HbA1c_level\":[HbA1c_level],\n",
    "                     \"blood_glucose_level\":[blood_glucose_level],\n",
    "                     \"gender_num\":[gender_num],\n",
    "                     \"smoking_history_num\":[smoking_history_num]\n",
    "      \n",
    "})\n",
    "\n"
   ]
  },
  {
   "cell_type": "code",
   "execution_count": null,
   "id": "c9800e10-7f06-4851-b888-5b265ed55428",
   "metadata": {
    "tags": []
   },
   "outputs": [],
   "source": [
    "#new_input"
   ]
  },
  {
   "cell_type": "code",
   "execution_count": null,
   "id": "294ad876-ca98-4eaa-a53c-08028fa2cc0c",
   "metadata": {
    "tags": []
   },
   "outputs": [],
   "source": [
    "\n",
    "prediction = pipe.predict(new_input)\n",
    "\n",
    "st.write(\"The Person is:\", prediction)"
   ]
  },
  {
   "cell_type": "code",
   "execution_count": null,
   "id": "c771e813-fb97-46d2-9657-f242314e1ca7",
   "metadata": {},
   "outputs": [],
   "source": []
  },
  {
   "cell_type": "code",
   "execution_count": null,
   "id": "75359cc9-26e6-490a-8f7e-a843e69553fa",
   "metadata": {},
   "outputs": [],
   "source": []
  }
 ],
 "metadata": {
  "kernelspec": {
   "display_name": "Python 3 (ipykernel)",
   "language": "python",
   "name": "python3"
  },
  "language_info": {
   "codemirror_mode": {
    "name": "ipython",
    "version": 3
   },
   "file_extension": ".py",
   "mimetype": "text/x-python",
   "name": "python",
   "nbconvert_exporter": "python",
   "pygments_lexer": "ipython3",
   "version": "3.11.4"
  }
 },
 "nbformat": 4,
 "nbformat_minor": 5
}
